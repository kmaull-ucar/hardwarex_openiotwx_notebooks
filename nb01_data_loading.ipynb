{
 "cells": [
  {
   "cell_type": "markdown",
   "id": "f58df20a-d45c-410a-a729-fea4b26e3a07",
   "metadata": {
    "tags": []
   },
   "source": [
    "# Data Loading\n",
    "\n",
    "## CHORDS DATA FILES\n",
    "**NOTE**: You will not have to run this notebook unless you need to reload the source data for re-analysis or re-evaluation.\n",
    "\n",
    "Check to see if the file:\n",
    "\n",
    "[`station23_20230907_20230914_all_sensors.csv`](./station23_20230907_20230914_all_sensors.csv)\n",
    "\n",
    "already exists.  If it does, proceed to this notebook:\n",
    "\n",
    "[`nb02_data_analysis.ipynb`](./nb02_data_analysis.ipynb)"
   ]
  },
  {
   "cell_type": "code",
   "execution_count": 1,
   "id": "ec12ab6c-384e-418a-a73f-d5253270e730",
   "metadata": {
    "tags": []
   },
   "outputs": [],
   "source": [
    "import requests"
   ]
  },
  {
   "cell_type": "markdown",
   "id": "8a7f4c86-ae67-48d2-9ba7-703ef95e66f7",
   "metadata": {},
   "source": [
    "**NOTE**:\n",
    "\n",
    "If you are running this with the intent of using the raw data directly from the CHORDS API, please contact the repository owner to obtain the necessary API key.\n",
    "\n",
    "Once you have obtained that key, create the file `apicreds.txt` in the same folder as this notebook, then exectue the remaining cells."
   ]
  },
  {
   "cell_type": "code",
   "execution_count": 2,
   "id": "941b59ed-d5d0-4002-9166-2e2a1db0f152",
   "metadata": {
    "tags": []
   },
   "outputs": [],
   "source": [
    "with open(\"apicreds.txt\") as f:\n",
    "    email, key = f.readline().split(',')"
   ]
  },
  {
   "cell_type": "code",
   "execution_count": 3,
   "id": "95ea2fe0-46cd-4789-8d5a-6ddb8b8d6e58",
   "metadata": {
    "tags": []
   },
   "outputs": [],
   "source": [
    "url = f\"https://cisl-chords.cloud.ucar.edu/api/v1/data/23.csv?start=2023-09-07T00:00&end=2023-09-14T00:00&email={email}&api_key={key}&\"\n",
    "r = requests.get(url)\n",
    "\n",
    "if r.status_code == 200:\n",
    "    with open(\"data/station23_20230907_20230914_all_sensors.csv\", \"wb\") as fo:\n",
    "        fo.write(r.content)"
   ]
  },
  {
   "cell_type": "markdown",
   "id": "46156c3c-5902-45aa-aa05-38770a685ebb",
   "metadata": {},
   "source": [
    "# NEON DATA FILES\n",
    "\n",
    "The original NEON **files are quite large** and included in the file:\n",
    "\n",
    "* [./data/NEON.zip](./data/NEON.zip)\n",
    "\n",
    "This is provided for reproducibility and traceability.  But we only need 4 files from the ZIP, so the code below extracts just what is necessary and included in the analysis.\n",
    "\n",
    "The code below requires `unzip` on the Jupyter host machine, but unzips the precise files use in the analysis notebooks."
   ]
  },
  {
   "cell_type": "markdown",
   "id": "fb024dd3-a06e-46c2-80d8-e12af321c2a5",
   "metadata": {},
   "source": [
    "## TEMPERATURE DATA FILE "
   ]
  },
  {
   "cell_type": "code",
   "execution_count": 4,
   "id": "0774c493-6541-4bce-8dab-28a6ed91947d",
   "metadata": {
    "tags": []
   },
   "outputs": [
    {
     "name": "stdout",
     "output_type": "stream",
     "text": [
      "Archive:  data/NEON.zip\n",
      "  inflating: ./data/NEON.D10.RMNP.DP1.00002.001.000.010.001.SAAT_1min.2023-09.basic.20231002T213448Z.csv  \n"
     ]
    }
   ],
   "source": [
    "!unzip -o -j \"data/NEON.zip\" \"NEON/NEON_temp-air-single/NEON.D10.RMNP.DP1.00002.001.2023-09.basic.20231002T213448Z.PROVISIONAL/NEON.D10.RMNP.DP1.00002.001.000.010.001.SAAT_1min.2023-09.basic.20231002T213448Z.csv\" -d \"./data\""
   ]
  },
  {
   "cell_type": "markdown",
   "id": "077a21ac-aa8e-4af0-be39-a0f939effd40",
   "metadata": {},
   "source": [
    "## HUMIDITY DATA FILE "
   ]
  },
  {
   "cell_type": "code",
   "execution_count": 5,
   "id": "250f4afe-1140-4a72-a3fe-102be6f02f71",
   "metadata": {
    "tags": []
   },
   "outputs": [
    {
     "name": "stdout",
     "output_type": "stream",
     "text": [
      "Archive:  data/NEON.zip\n",
      "  inflating: ./data/NEON.D10.RMNP.DP1.00098.001.000.050.001.RH_1min.2023-09.basic.20231002T184934Z.csv  \n"
     ]
    }
   ],
   "source": [
    "!unzip -o -j \"data/NEON.zip\" \"NEON/NEON_rel-humidity/NEON.D10.RMNP.DP1.00098.001.2023-09.basic.20231002T184934Z.PROVISIONAL/NEON.D10.RMNP.DP1.00098.001.000.050.001.RH_1min.2023-09.basic.20231002T184934Z.csv\" -d \"./data\""
   ]
  },
  {
   "cell_type": "markdown",
   "id": "3803c71a-b1a3-4eae-9261-e9452a306edb",
   "metadata": {},
   "source": [
    "## PM2.5 DATA FILE "
   ]
  },
  {
   "cell_type": "code",
   "execution_count": 6,
   "id": "6de69897-4ac1-4668-9c6d-7e07a650f3f4",
   "metadata": {
    "tags": []
   },
   "outputs": [
    {
     "name": "stdout",
     "output_type": "stream",
     "text": [
      "Archive:  data/NEON.zip\n",
      "  inflating: ./data/NEON.D10.RMNP.DP1.00017.001.000.050.030.dpsd_30_minutes.2023-09.basic.20231002T182109Z.csv  \n"
     ]
    }
   ],
   "source": [
    "!unzip -o -j \"data/NEON.zip\" \"NEON/NEON_size-dust-particulate/NEON.D10.RMNP.DP1.00017.001.2023-09.basic.20231002T182109Z.PROVISIONAL/NEON.D10.RMNP.DP1.00017.001.000.050.030.dpsd_30_minutes.2023-09.basic.20231002T182109Z.csv\" -d \"./data\""
   ]
  },
  {
   "cell_type": "markdown",
   "id": "341a97ec-b838-480b-9978-7fdd863ad1f5",
   "metadata": {},
   "source": [
    "## PRECIPITATION DATA FILE "
   ]
  },
  {
   "cell_type": "code",
   "execution_count": 7,
   "id": "7fbb08a2-8cbd-4d57-9f78-58db7f87d92c",
   "metadata": {
    "tags": []
   },
   "outputs": [
    {
     "name": "stdout",
     "output_type": "stream",
     "text": [
      "Archive:  data/NEON.zip\n",
      "  inflating: ./data/NEON.D10.RMNP.DP1.00006.001.003.000.030.THRPRE_30min.2023-09.basic.20231002T190744Z.csv  \n"
     ]
    }
   ],
   "source": [
    "!unzip -o -j \"data/NEON.zip\" \"NEON/NEON_precipitation/NEON.D10.RMNP.DP1.00006.001.2023-09.basic.20231002T190744Z.PROVISIONAL/NEON.D10.RMNP.DP1.00006.001.003.000.030.THRPRE_30min.2023-09.basic.20231002T190744Z.csv\" -d \"./data\""
   ]
  }
 ],
 "metadata": {
  "kernelspec": {
   "display_name": "Python 3 (ipykernel)",
   "language": "python",
   "name": "python3"
  },
  "language_info": {
   "codemirror_mode": {
    "name": "ipython",
    "version": 3
   },
   "file_extension": ".py",
   "mimetype": "text/x-python",
   "name": "python",
   "nbconvert_exporter": "python",
   "pygments_lexer": "ipython3",
   "version": "3.11.4"
  }
 },
 "nbformat": 4,
 "nbformat_minor": 5
}
